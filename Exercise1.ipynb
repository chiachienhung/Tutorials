{
 "cells": [
  {
   "cell_type": "markdown",
   "metadata": {},
   "source": [
    "# Introduction to Machine Learning\n",
    "\n",
    "This hands-on exercise guides you through three parts:\n",
    "1. Intro to Numpy\n",
    "2. Optimization, Learning & Convex functions\n",
    "3. Model Complexity"
   ]
  },
  {
   "cell_type": "markdown",
   "metadata": {},
   "source": [
    "**Before we start**\n",
    "\n",
    "Python is one of the most popular programming languages. The following tutorial and exercise session will guide you through Python for Machine Learning and provide some useful references.\n",
    "\n",
    "Python has a lot of useful add-on packages developed by its active community. The following packages are useful:\n",
    "\n",
    "* [NumPy](http://www.numpy.org/):  a fundamental package for scientific computing with Python.\n",
    "* [pandas](http://pandas.pydata.org/):  provide easy-to-use data structures and data analysis tools for Python.\n",
    "* [matplotlib](http://matplotlib.org/): a plotting library which produces publication quality figures in an interactive environments. \n",
    "* [scikit-learn](http://scikit-learn.org/): a module for machine learning equipped with preprocessing, model selection, classification, regression...etc.\n",
    "\n",
    "Feel free to use other python packages if you found it useful. There are a lot of open-sourced libraries where you can explore more.\n",
    "\n",
    "\n",
    "\n",
    "In our tutorial and exercise sessions, the materials are released in the format of [Jupyter Notebook](https://ipython.org/notebook.html) (i.e. *.ipynb).\n",
    "\n",
    "Jupyter Notebook is a web application that allows you to create and share documents which contains live Python code, LATEX equations, and visualizations.\n",
    "\n",
    "To open a notebook, **switch to the directory containing the notebook in the command-line** and **start the jupyter web server** (locating at http://127.0.0.1:8888 by default) by typing:\n",
    "> jupyter notebook\n",
    "\n",
    "You can either click on the cell run button or by hitting {Shift+Enter} in a code cell. You can also edit some text using the [markdown language](http://eherrera.net/markdowntutorial/) by using the markdown cell.\n",
    "\n",
    "Sometimes, you wish to measure the execution time of a code cell. This can be done by adding the following as the first line of the code:\n",
    "> %%timeit"
   ]
  },
  {
   "cell_type": "markdown",
   "metadata": {},
   "source": [
    "If you don't have the following packages: **numpy, pandas, matplotlib, scikit-learn**, please install the packages via the following:"
   ]
  },
  {
   "cell_type": "code",
   "execution_count": null,
   "metadata": {},
   "outputs": [],
   "source": [
    "!pip install numpy\n",
    "!pip install pandas\n",
    "!pip install matplotlib\n",
    "!pip install scikit-learn\n",
    "!pip install jupyter"
   ]
  },
  {
   "cell_type": "markdown",
   "metadata": {},
   "source": [
    "Now we start from importing the packages we need:"
   ]
  },
  {
   "cell_type": "code",
   "execution_count": 2,
   "metadata": {},
   "outputs": [],
   "source": [
    "# Import the installed packages we need\n",
    "import numpy as np\n",
    "import pandas as pd\n",
    "import matplotlib.pyplot as plt\n",
    "import sklearn"
   ]
  },
  {
   "cell_type": "markdown",
   "metadata": {},
   "source": [
    "## 1. Intro to NumPy\n",
    "\n",
    "NumPy is the core library for scientific computing in Python. It provides a high-performance multidimensional array object, and tools for working with these arrays.\n",
    "\n",
    "To use NumPy, we first need to import the numpy package."
   ]
  },
  {
   "cell_type": "code",
   "execution_count": 3,
   "metadata": {},
   "outputs": [],
   "source": [
    "import numpy as np"
   ]
  },
  {
   "cell_type": "markdown",
   "metadata": {},
   "source": [
    "### 1.1 Multidimensional Arrays\n",
    "The main object of numpy is the multidimensional array.\n",
    "\n",
    "A **multidimensional array** is a grid of values, with **all elements of the same type**. \n",
    "\n",
    "The number of dimensions is the rank of the array; the shape of an array is a tuple of integers giving the size of the array along each dimension.\n",
    "\n",
    "\n",
    "More to Read: [What are the differences between list and numpy.array?](https://webcourses.ucf.edu/courses/1249560/pages/python-lists-vs-numpy-arrays-what-is-the-difference)"
   ]
  },
  {
   "cell_type": "code",
   "execution_count": 4,
   "metadata": {},
   "outputs": [
    {
     "name": "stdout",
     "output_type": "stream",
     "text": [
      "Dimension: 1\n",
      "Shape: (3,)\n",
      "Type: <class 'numpy.ndarray'>\n"
     ]
    },
    {
     "data": {
      "text/plain": [
       "(1, 3)"
      ]
     },
     "execution_count": 4,
     "metadata": {},
     "output_type": "execute_result"
    }
   ],
   "source": [
    "# 1-D array\n",
    "arr1 = np.array([1,2,3])\n",
    "print(\"Dimension:\", np.ndim(arr1))\n",
    "print(\"Shape:\", arr1.shape)\n",
    "print(\"Type:\", type(arr1))\n",
    "arr1 = np.array([[1,2,3]])\n",
    "arr1.shape"
   ]
  },
  {
   "cell_type": "markdown",
   "metadata": {},
   "source": [
    "### Array Slicing\n",
    "\n",
    "In a 2-dimensional array M, the elements can be retrieved along several dimensions:\n",
    "\n",
    "The row count starts from 0, and the column count starts from 0\n",
    "\n",
    "Hint: the index of the array starts from 0\n",
    "\n",
    "* $M[i,j]$: access the item in the $i^{th}$ row and $j^{th}$ column\n",
    "* $M[i:j,:]$: get all the rows between the $i^{th}$ row and ${j-1}^{th}$\n",
    "* $M[:, i]$: get the $i^{th}$ column of M\n",
    "* $M[[i,j], :]$: get the $i^{th}$ and $j^{th}$ row of M\n"
   ]
  },
  {
   "cell_type": "code",
   "execution_count": 5,
   "metadata": {},
   "outputs": [
    {
     "name": "stdout",
     "output_type": "stream",
     "text": [
      "Dimension: 2\n",
      "Shape: (2, 3)\n",
      "Type: <class 'numpy.ndarray'>\n",
      "[[2 3]]\n"
     ]
    }
   ],
   "source": [
    "## Create a 2-D array\n",
    "# [[1 2 3]\n",
    "#  [2 4 6]]\n",
    "arr2 = np.array([[1,2,3],\n",
    "                 [2,4,6]])\n",
    "print(\"Dimension:\", np.ndim(arr2))\n",
    "print(\"Shape:\", arr2.shape)\n",
    "print(\"Type:\", type(arr2))\n",
    "\n",
    "## Select the subarray consisting of the first rows and columns 1 and 2\n",
    "print(arr2[0:1,1:3])"
   ]
  },
  {
   "cell_type": "markdown",
   "metadata": {},
   "source": [
    "**<mark>Challenge1: what is the result of arr2[0,1:]? Why?</mark>**"
   ]
  },
  {
   "cell_type": "code",
   "execution_count": 6,
   "metadata": {},
   "outputs": [
    {
     "name": "stdout",
     "output_type": "stream",
     "text": [
      "[2 3]\n",
      "[2 3]\n"
     ]
    }
   ],
   "source": [
    "## What is the result of arr2[0,1:]? Why?\n",
    "print(arr2[0,1:])\n",
    "\n",
    "## Because it is the same as arr2[0,1:n], where n is the size of the array. Here n=3\n",
    "print(arr2[0,1:3])"
   ]
  },
  {
   "cell_type": "markdown",
   "metadata": {},
   "source": [
    "### Exercise 1.1.1: Create a Matrix and do array slicing\n",
    "$ b = \\begin{bmatrix}4 & 3 & 2 &1 \\\\3 & 2 & 1 & 4 \\\\1 & 3 & 1 & 7 \\\\ 5 & 1 & 3 & 6 \\end{bmatrix}$\n",
    "\n",
    "Hint: A matrix is a 2-dimensional array"
   ]
  },
  {
   "cell_type": "code",
   "execution_count": 7,
   "metadata": {},
   "outputs": [
    {
     "name": "stdout",
     "output_type": "stream",
     "text": [
      "2\n",
      "(4, 4)\n",
      "7\n",
      "[[3 1]\n",
      " [2 4]\n",
      " [3 7]\n",
      " [1 6]]\n"
     ]
    }
   ],
   "source": [
    "## Create a matrix with numpy array, named b, with the shape of (4,4)\n",
    "b = np.array([[4,3,2,1],\n",
    "              [3,2,1,4],\n",
    "              [1,3,1,7],\n",
    "              [5,1,3,6]])\n",
    "print(np.ndim(b))\n",
    "\n",
    "## Print the array shape\n",
    "print(b.shape)\n",
    "\n",
    "## Access the item 7 in the matrix b\n",
    "print(b[2,3])\n",
    "\n",
    "## Get the subarray consisting of the two columns 3,2,3,1 and 1,4,7,6\n",
    "print(b[:,[1,3]])"
   ]
  },
  {
   "cell_type": "markdown",
   "metadata": {},
   "source": [
    "#### How to create arrays?\n",
    "\n",
    "NumPy also provides many functions to create arrays."
   ]
  },
  {
   "cell_type": "markdown",
   "metadata": {},
   "source": [
    "## Exercise 1.1.2: Generate the arrays with different functions\n",
    "Following are the exercises of creating an array of shape (3,3) with different functions."
   ]
  },
  {
   "cell_type": "code",
   "execution_count": 8,
   "metadata": {},
   "outputs": [
    {
     "name": "stdout",
     "output_type": "stream",
     "text": [
      "All zeros:\n",
      " [[0. 0. 0.]\n",
      " [0. 0. 0.]\n",
      " [0. 0. 0.]]\n",
      "All ones:\n",
      " [[1. 1. 1.]\n",
      " [1. 1. 1.]\n",
      " [1. 1. 1.]]\n",
      "All constants:\n",
      " [[7.2 7.2 7.2]\n",
      " [7.2 7.2 7.2]\n",
      " [7.2 7.2 7.2]]\n",
      "Identity Matrix:\n",
      " [[1. 0. 0.]\n",
      " [0. 1. 0.]\n",
      " [0. 0. 1.]]\n",
      "Random Matrix:\n",
      " [[0.8264016  0.97159652 0.6631916 ]\n",
      " [0.6025959  0.49382811 0.63393005]\n",
      " [0.1129779  0.77495909 0.37931181]]\n",
      "Random integer values between 2 and 4:\n",
      " [[3 2 2]\n",
      " [3 3 3]\n",
      " [3 4 3]]\n"
     ]
    }
   ],
   "source": [
    "## Create an array of all zeros\n",
    "a = np.zeros((3,3))\n",
    "print('All zeros:\\n', a)\n",
    "\n",
    "## Create an array of all ones\n",
    "b = np.ones((3,3))\n",
    "print('All ones:\\n', b)\n",
    "\n",
    "## Create a constant array\n",
    "c = np.full((3,3), 7.2)\n",
    "print('All constants:\\n', c)\n",
    "\n",
    "## Create an identity matrix\n",
    "d = np.eye(3)\n",
    "print('Identity Matrix:\\n', d)\n",
    "\n",
    "## Create an array filled with random values\n",
    "## Equivilant to np.random.rand(3,3)\n",
    "e = np.random.random((3,3))\n",
    "print('Random Matrix:\\n', e)\n",
    "\n",
    "f = np.random.randint(2, high = 5,size=(3,3))\n",
    "print('Random integer values between 2 and 4:\\n', f)"
   ]
  },
  {
   "cell_type": "markdown",
   "metadata": {},
   "source": [
    "**<mark>Challenge2: what can you do if you want to fix the generated random values?</mark>**\n",
    "\n",
    "Add the following code before the NumPy functions\n",
    "> np.random.seed(0)"
   ]
  },
  {
   "cell_type": "code",
   "execution_count": 9,
   "metadata": {},
   "outputs": [],
   "source": [
    "## Solution of fixing the generated random values"
   ]
  },
  {
   "cell_type": "markdown",
   "metadata": {},
   "source": [
    "**<mark>Challenge3: what to do if you want to generate random values between 2 floating points (e.g. 3.4, 50.8)?</mark>**\n",
    "\n",
    "Use the uniform distribution\n",
    "> np.random.uniform(3.4, 50.8, size=(3, 3))"
   ]
  },
  {
   "cell_type": "code",
   "execution_count": 10,
   "metadata": {},
   "outputs": [
    {
     "data": {
      "text/plain": [
       "array([[ 4.40810782, 10.22870663, 11.49810846],\n",
       "       [44.26098517, 32.91174531, 45.24582592],\n",
       "       [49.34839323,  3.55237361, 46.61218844]])"
      ]
     },
     "execution_count": 10,
     "metadata": {},
     "output_type": "execute_result"
    }
   ],
   "source": [
    "np.random.uniform(3.4, 50.8, size=(3, 3))"
   ]
  },
  {
   "cell_type": "markdown",
   "metadata": {},
   "source": [
    "### 1.2 Mathematical Operations"
   ]
  },
  {
   "cell_type": "markdown",
   "metadata": {},
   "source": [
    "There are many helpful functions in numpy. For basic mathematical operations, there are **np.log, np.exp, np.cos**,...with the expected meaning.\n",
    "\n",
    "These operate both on single arguments and on arrays (where there will behave element wise)"
   ]
  },
  {
   "cell_type": "markdown",
   "metadata": {},
   "source": [
    "### Exercise 1.2.1 Compute Element-Wise Multiplication\n",
    "\n",
    "Given two matrices $ X = \\begin{bmatrix}1 & 2 \\\\3 & 4 \\end{bmatrix}$, and $ Y = \\begin{bmatrix}5 & 6 \\\\7 & 8 \\end{bmatrix}$\n",
    "1. Compute X + Y (Add)\n",
    "2. Compute X - Y (Subtract) \n",
    "3. Compute X * Y (Multiply)\n",
    "4. Compute X / Y (Divide)\n",
    "5. Compute $X^2$ (Square Root)"
   ]
  },
  {
   "cell_type": "code",
   "execution_count": 11,
   "metadata": {},
   "outputs": [
    {
     "name": "stdout",
     "output_type": "stream",
     "text": [
      "Add:\n",
      "\n",
      "[[ 6  8]\n",
      " [10 12]]\n",
      "[[ 6  8]\n",
      " [10 12]]\n",
      "\n",
      "\n",
      "Subtract:\n",
      "\n",
      "[[-4 -4]\n",
      " [-4 -4]]\n",
      "[[-4 -4]\n",
      " [-4 -4]]\n",
      "\n",
      "\n",
      "Multiply:\n",
      "\n",
      "[[ 5 12]\n",
      " [21 32]]\n",
      "[[ 5 12]\n",
      " [21 32]]\n",
      "\n",
      "\n",
      "Divide:\n",
      "\n",
      "[[0.2        0.33333333]\n",
      " [0.42857143 0.5       ]]\n",
      "[[0.2        0.33333333]\n",
      " [0.42857143 0.5       ]]\n",
      "\n",
      "\n",
      "Square Root:\n",
      "\n",
      "[[1.         1.41421356]\n",
      " [1.73205081 2.        ]]\n"
     ]
    }
   ],
   "source": [
    "## Define X and Y as a numpy array\n",
    "X = np.array([[1,2],[3,4]])\n",
    "Y = np.array([[5,6],[7,8]])\n",
    "\n",
    "## Compute X + Y\n",
    "print('Add:\\n')\n",
    "print(X + Y)\n",
    "print(np.add(X, Y))\n",
    "print('\\n')\n",
    "\n",
    "## Compute X - Y\n",
    "print('Subtract:\\n')\n",
    "print(X - Y)\n",
    "print(np.subtract(X, Y))\n",
    "print('\\n')\n",
    "\n",
    "## Compute X * Y\n",
    "print('Multiply:\\n')\n",
    "print(X * Y)\n",
    "print(np.multiply(X, Y))\n",
    "print('\\n')\n",
    "\n",
    "## Compute X / Y\n",
    "print('Divide:\\n')\n",
    "print(X / Y)\n",
    "print(np.divide(X, Y))\n",
    "print('\\n')\n",
    "\n",
    "## Compute Square Root of X\n",
    "print('Square Root:\\n')\n",
    "print(np.sqrt(X))"
   ]
  },
  {
   "cell_type": "markdown",
   "metadata": {},
   "source": [
    "### Exercise 1.2.2 Compute Matrix Multiplication\n",
    "\n",
    "Since * is element-wise multiplication, not matrix multiplication. We need to use the dot function to compute inner products of vectors, to multiply a vector by a matrix, and to multiply matrices.\n",
    "\n",
    "Given 4 arrays: $ V = \\begin{bmatrix}9 & 10\\end{bmatrix}$, $ W = \\begin{bmatrix}11 & 12 \\end{bmatrix}$, $ X = \\begin{bmatrix}1 & 2 \\\\3 & 4 \\end{bmatrix}$, and $ Y = \\begin{bmatrix}5 & 6  \\\\7 & 8 \\\\9 & 10\\end{bmatrix}$\n",
    "\n",
    "1. Compute inner product of V and W\n",
    "2. Compute matrix multiplcation with $X*V$ \n",
    "3. Compute matrix multiplcation with $X*Y^T$"
   ]
  },
  {
   "cell_type": "code",
   "execution_count": 26,
   "metadata": {},
   "outputs": [
    {
     "name": "stdout",
     "output_type": "stream",
     "text": [
      "Inner Product:\n",
      "\n",
      "219\n",
      "219\n",
      "\n",
      "\n",
      "Matrix Multiplication X*V:\n",
      "\n",
      "[29 67]\n",
      "[29 67]\n",
      "\n",
      "\n",
      "Matrix Multiplication X*(Y^T):\n",
      "\n",
      "[[17 23 29]\n",
      " [39 53 67]]\n",
      "[[17 23 29]\n",
      " [39 53 67]]\n",
      "\n",
      "\n"
     ]
    }
   ],
   "source": [
    "## Define X and Y as a numpy array\n",
    "X = np.array([[1,2],[3,4]])\n",
    "Y = np.array([[5,6],[7,8],[9,10]])\n",
    "V = np.array([9, 10])\n",
    "W = np.array([11,12])\n",
    "\n",
    "## Compute inner product of V and W\n",
    "print('Inner Product:\\n')\n",
    "print(V.dot(W))\n",
    "print(np.dot(V, W))\n",
    "print('\\n')\n",
    "\n",
    "## Compute matrix multiplcation with X*V\n",
    "print('Matrix Multiplication X*V:\\n')\n",
    "print(X.dot(V))\n",
    "print(np.dot(X, V))\n",
    "print('\\n')\n",
    "\n",
    "## Compute matrix multiplcation with X*(Y^T)\n",
    "print('Matrix Multiplication X*(Y^T):\\n')\n",
    "print(X.dot(Y.transpose()))\n",
    "print(np.dot(X, Y.transpose()))\n",
    "print('\\n')"
   ]
  },
  {
   "cell_type": "code",
   "execution_count": 29,
   "metadata": {},
   "outputs": [
    {
     "data": {
      "text/plain": [
       "array([29, 67])"
      ]
     },
     "execution_count": 29,
     "metadata": {},
     "output_type": "execute_result"
    }
   ],
   "source": [
    "np.matmul(X,V)"
   ]
  },
  {
   "cell_type": "markdown",
   "metadata": {},
   "source": [
    "### Exercise 1.2.3 Cosine/Sine Function and plot\n",
    "1. Create an array X with 1000 elements (i.e. data points), where the data points are between 0 and 12, and the steps are 1000. **(Hint: using np.linspace)**\n",
    "2. Create the array y_cos with cosine function considering the array X\n",
    "3. Create the array y_sin with sine function considering the array X\n",
    "4. Plot the results with matplotlib including the x-label, y-label, title, and legend"
   ]
  },
  {
   "cell_type": "code",
   "execution_count": 13,
   "metadata": {},
   "outputs": [
    {
     "data": {
      "image/png": "[encoded data removed]",
      "text/plain": [
       "<Figure size 432x288 with 1 Axes>"
      ]
     },
     "metadata": {
      "needs_background": "light"
     },
     "output_type": "display_data"
    }
   ],
   "source": [
    "%matplotlib inline\n",
    "import matplotlib.pyplot as plt\n",
    "import numpy as np\n",
    "X = np.linspace(0, 12, 1000) #(start, end, number_of_points)\n",
    "y_cos = np.cos(X)\n",
    "y_sin = np.sin(X)\n",
    "\n",
    "plt.plot(X, y_cos, label='Cosine')\n",
    "plt.plot(X, y_sin, label='Sine')\n",
    "plt.xlabel('x axis label')\n",
    "plt.ylabel('y axis label')\n",
    "plt.title('Sine and Cosine')\n",
    "plt.legend()\n",
    "plt.show()"
   ]
  },
  {
   "cell_type": "markdown",
   "metadata": {},
   "source": [
    "Other functions take a whole array and compute a single value from it. For example, **np.sum, np.mean**, ..."
   ]
  },
  {
   "cell_type": "code",
   "execution_count": 14,
   "metadata": {},
   "outputs": [
    {
     "name": "stdout",
     "output_type": "stream",
     "text": [
      "49.5\n",
      "49.5\n"
     ]
    }
   ],
   "source": [
    "## Generate integers from 0 to 99\n",
    "A = np.arange(0 , 100) # (start, end, [step])\n",
    "\n",
    "## Calculate the mean value of array A\n",
    "print(np.mean(A))\n",
    "print(A.mean())"
   ]
  },
  {
   "cell_type": "markdown",
   "metadata": {},
   "source": [
    "### Exercise 1.2.4 Calculating the sum\n",
    "1. Create a 2-D array \n",
    "$ X = \\begin{bmatrix}1 & 2 & 3 \\\\4 & 5 & 6 \\end{bmatrix}$\n",
    "2. Compute the sum of all elements\n",
    "3. Compute sum of each column\n",
    "4. Compute sum of each row"
   ]
  },
  {
   "cell_type": "code",
   "execution_count": 15,
   "metadata": {},
   "outputs": [
    {
     "name": "stdout",
     "output_type": "stream",
     "text": [
      "21\n",
      "[5 7 9]\n",
      "[ 6 15]\n"
     ]
    }
   ],
   "source": [
    "## Create a 2-D array\n",
    "x = np.array([[1,2,3], [4,5,6]])\n",
    "\n",
    "## Compute sum of all elements\n",
    "print(np.sum(x)) \n",
    "## Compute sum of each column\n",
    "print(np.sum(x, axis = 0))\n",
    "## Compute sum of each row\n",
    "print(np.sum(x, axis = 1))"
   ]
  },
  {
   "cell_type": "markdown",
   "metadata": {},
   "source": [
    "**There are always more to explore:**\n",
    "* [Numpy Official docs](https://docs.scipy.org/doc/numpy/user/quickstart.html)\n",
    "* [Numpy Tutorialspoint](https://www.tutorialspoint.com/numpy/index.htm)"
   ]
  }
 ],
 "metadata": {
  "kernelspec": {
   "display_name": "Python 3",
   "language": "python",
   "name": "python3"
  },
  "language_info": {
   "codemirror_mode": {
    "name": "ipython",
    "version": 3
   },
   "file_extension": ".py",
   "mimetype": "text/x-python",
   "name": "python",
   "nbconvert_exporter": "python",
   "pygments_lexer": "ipython3",
   "version": "3.7.4"
  }
 },
 "nbformat": 4,
 "nbformat_minor": 4
}
