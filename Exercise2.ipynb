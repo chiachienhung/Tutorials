{
 "cells": [
  {
   "cell_type": "markdown",
   "metadata": {},
   "source": [
    "## 2. Optimization, Learning & Convex functions\n",
    "\n",
    "Recall from the lecture, what is the \"learning\" in machine learning?\n",
    "\n",
    "Machine learning is learning the parameters from the algorithms (i.e. model) in order to well match from your inputs to your outputs (supervised), or find the data patterns (unsupervised).\n",
    "\n",
    "Here comes the question? How to find the optimized solution of an ML algorithms?\n",
    "\n",
    "In this part, we start to discuss about different optimization process when facing analytical solutions (closed-form) and numerical solutions."
   ]
  },
  {
   "cell_type": "markdown",
   "metadata": {},
   "source": [
    "### 2.1 Optimization"
   ]
  },
  {
   "cell_type": "markdown",
   "metadata": {},
   "source": [
    "### 2.1.1 Linear Regression\n",
    "\n",
    "Linear Regression models are used to predict target variables (y's) (i.e. data outputs) in continuous space, which makes them attractive for:\n",
    "\n",
    "* Understanding relationships between data intpus and data outputs\n",
    "* Evaluating trends\n",
    "* Making forecasts\n",
    "    \n",
    "Considering the data outputs (Y) can be explained by the data inputs (X=[x0, x1, x2, ...]) as the following with linear relationship:\n",
    "\n",
    "$$Y=w_0x_0 + w_1x_1 + w_2x_2 + ... +  \\epsilon = W^TX + \\epsilon$$\n",
    "\n",
    "| x0 | x1(housesize, $m^2$) | y(price) |\n",
    "|----|---------------|----------|\n",
    "| 1  | 2             | 15       |\n",
    "| 1  | 4             | 32.8     |\n",
    "| 1  | 5.3           | 36.2     |\n",
    "\n",
    "\n",
    "The **linear model** is defined as:\n",
    "\n",
    "$$\\widehat{Y}=w_0x_0 + w_1x_1 + w_2x_2 = W^TX $$\n",
    "\n",
    "Here, the parameters required for learning is $W$. \n",
    "\n",
    "The loss function (or objective function) $J$ is:\n",
    "\n",
    "$$J(W) = \\sum_{(W)}({Y-\\widehat{Y}})^2 = \\sum_{(W)}({Y-W^TX})^2$$\n",
    "\n",
    "In this case, we're trying to solve the follwoing optimization problems with the mean-squared errors (i.e. minimize the loss function):\n",
    "\n",
    "$$min \\sum_{(W)}({Y-\\widehat{Y}})^2 = min \\sum_{(W)}({Y-W^TX})^2$$\n",
    "\n",
    "Minimizing the sum of squared errors (SSE) can be understood as finding the best-fitting straight line through the example points. \n",
    "\n",
    "The best-fitting line is called the regression line (or hyperplane when $X \\in R^D$, $D > 1$ ), and the vertical offsets from\n",
    "the regression line to the data points are called the residuals (i.e., the errors of our prediction), as shown in the following:\n",
    "\n",
    "![](http://rasbt.github.io/mlxtend/user_guide/regressor/LinearRegression_files/simple_regression.png)\n",
    "\n",
    "we can easily find the analytical solutions (i.e. closed-form solution) via\n",
    "\n",
    "$$W = (X^TX)^{-1}X^TY$$"
   ]
  },
  {
   "cell_type": "code",
   "execution_count": 1,
   "metadata": {},
   "outputs": [],
   "source": [
    "import numpy as np\n",
    "import pandas as pd\n",
    "import matplotlib.pyplot as plt\n",
    "import sklearn"
   ]
  },
  {
   "cell_type": "markdown",
   "metadata": {},
   "source": [
    "### Exercise 2.1.1 Find the analytical solution of Linear Regression Model\n",
    "Having a linear regression model $y = (-8) + 3 x_1$\n",
    "\n",
    "Assume that the data input $x_1$ is generated from **np.linspace(0,10,100)**\n",
    "\n",
    "And the data outputs are generated via $y = (-8) + 3 x_1 + \\epsilon$\n",
    "\n",
    "1. Create random numpy arrays $x_0$, $x_1$ and noise $\\epsilon$\n",
    "2. Generate data outputs via $y = (-8) + 3 x_1 + \\epsilon$\n",
    "3. Plot the scatter plot to see the data distribution\n",
    "4. Find the analytical solution of LR model via the upper formula\n",
    "5. Plot your results"
   ]
  },
  {
   "cell_type": "code",
   "execution_count": 27,
   "metadata": {},
   "outputs": [
    {
     "data": {
      "image/png": "[encoded data removed]",
      "text/plain": [
       "<Figure size 432x288 with 1 Axes>"
      ]
     },
     "metadata": {
      "needs_background": "light"
     },
     "output_type": "display_data"
    }
   ],
   "source": [
    "## Create a scenario with the inputs and outputs with linear relationship\n",
    "# 1. Create random numpy arrays x0, x1 and noise factor delta\n",
    "np.random.seed(0)\n",
    "x1 = np.linspace(0,10,100)\n",
    "x0 = np.ones(100)\n",
    "delta = np.random.uniform(-2,2, size=(100,))\n",
    "\n",
    "# 2. Generate data outputs via $y = (-8) + 3 x_1 + \\epsilon$\n",
    "y = (-8)*x0 + 3 * x1+ delta\n",
    "#W = np.array([3, 0.4])\n",
    "#X = np.array([x0,x])\n",
    "#print(X)\n",
    "#y11 = W.dot(X) + delta\n",
    "#print(y, y11)\n",
    "\n",
    "# 3. Plot the scatter plot to see the data distribution\n",
    "plt.scatter(x1, y, color = 'blue')\n",
    "plt.show()"
   ]
  },
  {
   "cell_type": "code",
   "execution_count": 3,
   "metadata": {},
   "outputs": [],
   "source": [
    "# 4. Find the analytical solution of LR model\n",
    "class LinearRegression:\n",
    "    def fit(self, X, y):\n",
    "        self.w = np.matmul(np.matmul(np.linalg.inv(np.matmul(X.T,X)),X.T),y)\n",
    "        #self.w = np.linalg.lstsq(X, y, rcond=None)[0]\n",
    "    def predict(self, X):\n",
    "        return X.dot(self.w)"
   ]
  },
  {
   "cell_type": "code",
   "execution_count": 4,
   "metadata": {},
   "outputs": [
    {
     "name": "stdout",
     "output_type": "stream",
     "text": [
      "Parameters: [[-7.60858727]\n",
      " [ 2.89995253]]\n"
     ]
    }
   ],
   "source": [
    "np.random.seed(0)\n",
    "#x1 = np.arange(100)\n",
    "x1 = np.linspace(0,10,100)\n",
    "x0 = np.ones(100)\n",
    "delta = np.random.uniform(-2,2, size=(100,1))\n",
    "#delta = np.random.uniform(-10,10, size=(500,))\n",
    "#Y = 50*x0 + 0.4 * x1+ delta\n",
    "W = np.array([-8,3]).reshape(2,1) # (2,1)\n",
    "X = np.array([x0,x1]).T # (500,2)\n",
    "Y = np.dot(X,W)+delta # (500,1)\n",
    "\n",
    "#print(W.shape, X.shape, Y.shape)\n",
    "model = LinearRegression()\n",
    "model.fit(X,Y)\n",
    "print('Parameters:',model.w)"
   ]
  },
  {
   "cell_type": "code",
   "execution_count": 5,
   "metadata": {},
   "outputs": [
    {
     "data": {
      "image/png": "[encoded data removed]",
      "text/plain": [
       "<Figure size 432x288 with 1 Axes>"
      ]
     },
     "metadata": {
      "needs_background": "light"
     },
     "output_type": "display_data"
    }
   ],
   "source": [
    "# 5. Plot the results\n",
    "#w0 = plt.scatter(366 * X_train, y_train, color=cmap(0.9), s=10)\n",
    "#w1 = plt.scatter(366 * X_test, y_test, color=cmap(0.5), s=10)\n",
    "Y_pred = model.predict(X)\n",
    "\n",
    "plt.scatter(X[:,1:], Y, color = 'blue')\n",
    "plt.plot(X[:,1:], Y_pred, color='red', linewidth=2)\n",
    "#plt.suptitle(\"Linear Regression\")\n",
    "#plt.title(\"MSE: %.2f\" % mse, fontsize=10)\n",
    "#plt.legend((m1, m2), (\"Training data\", \"Test data\"), loc='lower right')\n",
    "plt.show()"
   ]
  },
  {
   "cell_type": "code",
   "execution_count": 6,
   "metadata": {},
   "outputs": [],
   "source": [
    "# Analytical Solutions\n",
    "def linear_regression(x,y):\n",
    "    x=np.concatenate((np.ones((x.shape[0],1)),x[:,np.newaxis]),axis=1)\n",
    "    #print(x.shape)\n",
    "    y=y[:,np.newaxis]\n",
    "    #print(y.shape)\n",
    "    weights=np.matmul(np.matmul(np.linalg.inv(np.matmul(x.T,x)),x.T),y)\n",
    "    return weights"
   ]
  },
  {
   "cell_type": "code",
   "execution_count": 7,
   "metadata": {},
   "outputs": [
    {
     "data": {
      "text/plain": [
       "array([[-7.60858727],\n",
       "       [ 2.89995253]])"
      ]
     },
     "execution_count": 7,
     "metadata": {},
     "output_type": "execute_result"
    }
   ],
   "source": [
    "np.random.seed(0)\n",
    "x1 = np.linspace(0,10,100)\n",
    "x0 = np.ones(100)\n",
    "delta = np.random.uniform(-2,2, size=(100,))\n",
    "\n",
    "y = (-8)*x0 + 3 * x1+ delta\n",
    "linear_regression(x1,y)"
   ]
  },
  {
   "cell_type": "markdown",
   "metadata": {},
   "source": [
    "### 2.2.1 Logistic Regression\n",
    "\n",
    "What's the problem here with linear regression model to fit the classification problem?\n",
    "\n",
    "![](http://res.cloudinary.com/dyd911kmh/image/upload/f_auto,q_auto:best/v1534281070/linear_vs_logistic_regression_edxw03.png)\n",
    "\n",
    "A solution for classification is logistic regression. \n",
    "\n",
    "Instead of fitting a straight line or hyperplane, the logistic regression model uses the logistic function to squeeze the output of a linear equation between 0 and 1.\n",
    "\n",
    "Using the Sigmoid function (also called logistic function), the standard linear formula is transformed to the logistic regression formula. Here z can be any real values where the output of sigmoid function will be the value between 0 and 1 (considered as the predicted probability).\n",
    "\n",
    "$$\\sigma(z) = \\frac{1}{1+ exp(-z)}$$\n",
    "\n",
    "And for classification, we can set a threshold as 0.5, if the output of the sigmoid function is more than 0.5, we can classify the outcome as 1 or YES, and if it is less than 0.5, we can classify it as 0 or NO."
   ]
  },
  {
   "cell_type": "code",
   "execution_count": 8,
   "metadata": {},
   "outputs": [],
   "source": [
    "## Write a logistic function, with the above formulas\n",
    "def logistic(x):\n",
    "    return 1.0 / (1.0 + np.exp(-x))\n",
    "#logistic(np.array([0.458,0.458]))"
   ]
  },
  {
   "cell_type": "code",
   "execution_count": 9,
   "metadata": {},
   "outputs": [
    {
     "data": {
      "image/png": "[encoded data removed]",
      "text/plain": [
       "<Figure size 432x288 with 1 Axes>"
      ]
     },
     "metadata": {
      "needs_background": "light"
     },
     "output_type": "display_data"
    }
   ],
   "source": [
    "# Plot the logistic function\n",
    "z = np.arange(-7,7,0.1)\n",
    "sigma = logistic(z)\n",
    "plt.plot(z,sigma)\n",
    "plt.axvline(0.0, color = 'k')\n",
    "plt.ylim(-0.1, 1.1)\n",
    "plt.xlabel('z')\n",
    "plt.ylabel('$\\sigma(z)$')\n",
    "plt.title('Logistic function')\n",
    "plt.hlines(y=1.0, xmin = -7, xmax = 7, color = 'red', linewidth = 1, linestyle = '--')\n",
    "plt.hlines(y=0.5, xmin = -7, xmax = 7, color = 'red', linewidth = 1, linestyle = '--')\n",
    "plt.hlines(y=0.0, xmin = -7, xmax = 7, color = 'red', linewidth = 1, linestyle = '--')\n",
    "plt.show()"
   ]
  },
  {
   "cell_type": "markdown",
   "metadata": {},
   "source": [
    "### Exercise 2.2.1 What you discover from the logistic function plot?\n"
   ]
  },
  {
   "cell_type": "code",
   "execution_count": null,
   "metadata": {},
   "outputs": [],
   "source": []
  },
  {
   "cell_type": "markdown",
   "metadata": {},
   "source": [
    "For considering $z = W^TX$, where the input as a linear regression function, the **logistic regression model** is defined as:\n",
    "\n",
    "$$\\widehat{Y} = \\sigma(W^TX) = \\frac{1}{1+ exp(- W^TX)}$$\n",
    "\n",
    "We're trying to learn the weight $W$ of the logistic regression model. But how we learn it?\n",
    "\n",
    "* Require to define the objective function\n",
    "* Require to select a method for minimizing (or maximizing) the objective function (analytical? numerical?)\n",
    "\n",
    "### Define the objective function\n",
    "\n",
    "Here we use the **cross-entropy loss** between the predicted output $\\widehat{Y}$ and the true output $Y$:\n",
    "\n",
    "$$CE(Y, \\widehat{Y}) = -[\\widehat{Y}ln(Y) + (1-\\widehat{Y})ln(1-Y)]$$\n",
    "\n",
    "In this case, if your predicted output is the same as the true output (e.g.1 or 0 in both cases), the cross-entropy loss will be 0.\n",
    "\n",
    "Here the optimized problems to learn the parameter $W$ is to minimize the cross-entropy loss\n",
    "\n",
    "$$\\min CE(Y, \\widehat{Y}) = -[\\widehat{Y}ln(Y) + (1-\\widehat{Y})ln(1-Y)]$$\n",
    "\n",
    "<mark>But how? Can we find an analytical solution?</mark>"
   ]
  },
  {
   "cell_type": "markdown",
   "metadata": {},
   "source": [
    "### Numerical Optimization\n",
    "\n",
    "Most problems in machine learning require minimization / maximization of the loss / objective functions to learn the optimized parameters.\n",
    "\n",
    "Let x* be the value of x which minimized the value of the function f(x). Mathematically, this is written as:\n",
    "$$x^* = \\operatorname*{argmin}_x f(x)$$\n",
    "\n",
    "In few cases, we can solve this minimization problem analytically in closed form (i.e. solving for optimal $x^*$ in $\\triangledown_xf(x^*)=0$).\n",
    "\n",
    "But in most cases it is too cumbersome (or impossible) to solve these equations analytically. So, it must be tackled numerically.\n",
    "\n",
    "The most common ways to solve the problems with no closed-form solution is with **iterative algorithm**. \n",
    "These iterative algorithms construct a sequence of points for the parameter x as $x^{(0)}, x^{(1)} ...$ at each time step such that hopefully after a certain iteration steps $x^t = x^{*}$.\n",
    "\n",
    "Such a sequence is called the minimizing sequence for the problem.\n",
    "\n",
    "And **Gradient Descent** is one of the most common methods for **iterative algorithm**.\n",
    "\n",
    "\n",
    "### Convex Function\n",
    "And important property of a function f(x) is whether it is a **convex function** or a **non-convex function**.\n",
    "\n",
    "![](data:image/png;base64,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)\n",
    "\n",
    "**Convex function** is useful since you can guarantee that the minimizing sequence converges to the true global minimum of the function, while\n",
    "\n",
    "**non-convex function** can only guarantee that it will reach a local minimum.\n",
    "\n",
    "<mark>Imaging dropping a ball from both side, will the results be different concerning the convex function and non-convex function? </mark>\n",
    "\n",
    "<mark>And if we initialize the value from the right side instead of the left side, what will happen?</mark>\n",
    "\n",
    "Gradient Descent can only possibly find the local minimum for a non-convex function, but can not guaranteed a global minimum.\n",
    "\n",
    "### Gradient Descent\n",
    "\n",
    "Gradient descent method is an iterative optimization algorithm to find the minimum of a function. The intuition is as follows:\n",
    "\n",
    "Suppose you want to find the optimized value $x^*$ which minimizes the function f(x)\n",
    "1. Start at a given point $x_0$ and compute the gradient at the point $\\triangledown_{x_0}f(x)$\n",
    "2. Take a step of length $\\eta$ on the direction of the negative gradient to find a new point: $x_1 = x_0 - \\eta \\triangledown_{x_0}f(x)$\n",
    "3. Then you compute the gradient at the new point $\\triangledown_{x_1}f(x)=0$, and take a step of length $\\eta$ on the direction of the negative gradient to find a new point: $x_2 = x_1 - \\eta \\triangledown_{x_1}f(x)$\n",
    "\n",
    "Proceed the iterative steps, until a minimum (local/global) has reached. The minimum can be identified if the norm of the gradient is zero: $||\\triangledown f(x)=0||$\n",
    "\n",
    "Here the step length $\\eta$ we often called **learning rate**, the iteration step we often called **epoch**.\n",
    "\n",
    "<mark>What are the problems for the simple gradient descent?</mark>"
   ]
  },
  {
   "cell_type": "markdown",
   "metadata": {},
   "source": [
    "#### Problem1: Define the learning rate $\\eta$\n",
    "\n",
    "![](https://www.jeremyjordan.me/content/images/2018/02/Screen-Shot-2018-02-24-at-11.47.09-AM.png)\n",
    "\n",
    "The left figure shows what could happen if we choose a too small learning rate: although the cost decreases, the descent is too small that the algorithm would require a large number of epochs to converge.\n",
    "\n",
    "The right figure shows what could happen if we choose a too large learning rate: instead of minimizing the cost function, the error becomes larger in every epoch because we overshoot the optimal point every time.\n",
    "\n",
    "So we need to choose a proper learning rate, can either do hyperparameter tuning or with other approach like SGD (which adjust the learning rate, not the fixed one as simple GD)\n",
    "\n",
    "#### Problem2: Descent Direction\n",
    "Using the negative gradient as direction can lead to a very slow convergence. Different methods that change the descent direction by multiplying the gradient by a matric B have been proposed that guarantee a faster convergence (e.g. Conjugate Gradient (CG))\n",
    "\n",
    "#### Problem3: Stopping Criteria\n",
    "It's normally not possible to reach full convergence due to the efficiency, or because of numerical issues (computers cannot perform exact arithmetic). Normallly we need to define a stopping criteria for the algorithm by:\n",
    "* Define a maximum number of iterations (i.e. epochs)\n",
    "* If the gradient norm be smaller than a given threshold $||\\triangledown f(x)|| \\leq \\theta$, or the normalized difference in the function value be smaller than a given threshold $\\frac{|f(x_t)-f(x_{t-1})|}{\\max(|f(x_t)|,|f(x_{t-1})|)} \\leq \\lambda$"
   ]
  },
  {
   "cell_type": "markdown",
   "metadata": {},
   "source": [
    "### Exercise 2.2.2 Find the numerical solution of Logistic Regression Model via Gradient Descent\n",
    "\n",
    "1. Given the data related to the candidates who would get admitted to a prestigious university, there are 2 possible outcomes: admitted (with the value 1), and rejected (with the value 0)\n",
    "2. Build a logistic regression model\n",
    "    * Load the data into input data X and output data Y\n",
    "    * Define the logistic function\n",
    "    * Define the cross-entropy loss\n",
    "    * Define the gradient descent algorithm\n",
    "    * Define the learning rate and iteration steps\n",
    "    * Train your model, check the loss results\n",
    "3. Adjust the learning rate and epochs, any observation?"
   ]
  },
  {
   "cell_type": "code",
   "execution_count": 10,
   "metadata": {},
   "outputs": [
    {
     "data": {
      "text/html": [
       "<div>\n",
       "<style scoped>\n",
       "    .dataframe tbody tr th:only-of-type {\n",
       "        vertical-align: middle;\n",
       "    }\n",
       "\n",
       "    .dataframe tbody tr th {\n",
       "        vertical-align: top;\n",
       "    }\n",
       "\n",
       "    .dataframe thead th {\n",
       "        text-align: right;\n",
       "    }\n",
       "</style>\n",
       "<table border=\"1\" class=\"dataframe\">\n",
       "  <thead>\n",
       "    <tr style=\"text-align: right;\">\n",
       "      <th></th>\n",
       "      <th>gmat</th>\n",
       "      <th>gpa</th>\n",
       "      <th>work_experience</th>\n",
       "      <th>admitted</th>\n",
       "    </tr>\n",
       "  </thead>\n",
       "  <tbody>\n",
       "    <tr>\n",
       "      <th>0</th>\n",
       "      <td>780</td>\n",
       "      <td>4.0</td>\n",
       "      <td>3</td>\n",
       "      <td>1</td>\n",
       "    </tr>\n",
       "    <tr>\n",
       "      <th>1</th>\n",
       "      <td>750</td>\n",
       "      <td>3.9</td>\n",
       "      <td>4</td>\n",
       "      <td>1</td>\n",
       "    </tr>\n",
       "    <tr>\n",
       "      <th>2</th>\n",
       "      <td>690</td>\n",
       "      <td>3.3</td>\n",
       "      <td>3</td>\n",
       "      <td>1</td>\n",
       "    </tr>\n",
       "    <tr>\n",
       "      <th>3</th>\n",
       "      <td>710</td>\n",
       "      <td>3.7</td>\n",
       "      <td>5</td>\n",
       "      <td>1</td>\n",
       "    </tr>\n",
       "    <tr>\n",
       "      <th>4</th>\n",
       "      <td>680</td>\n",
       "      <td>3.9</td>\n",
       "      <td>4</td>\n",
       "      <td>1</td>\n",
       "    </tr>\n",
       "  </tbody>\n",
       "</table>\n",
       "</div>"
      ],
      "text/plain": [
       "   gmat  gpa  work_experience  admitted\n",
       "0   780  4.0                3         1\n",
       "1   750  3.9                4         1\n",
       "2   690  3.3                3         1\n",
       "3   710  3.7                5         1\n",
       "4   680  3.9                4         1"
      ]
     },
     "execution_count": 10,
     "metadata": {},
     "output_type": "execute_result"
    }
   ],
   "source": [
    "import pandas as pd\n",
    "candidates = {'gmat': [780,750,690,710,680,730,690,720,740,690,610,690,710,680,770,610,580,650,540,590,620,600,550,550,570,670,660,580,650,660,640,620,660,660,680,650,670,580,590,690],\n",
    "              'gpa': [4,3.9,3.3,3.7,3.9,3.7,2.3,3.3,3.3,1.7,2.7,3.7,3.7,3.3,3.3,3,2.7,3.7,2.7,2.3,3.3,2,2.3,2.7,3,3.3,3.7,2.3,3.7,3.3,3,2.7,4,3.3,3.3,2.3,2.7,3.3,1.7,3.7],\n",
    "              'work_experience': [3,4,3,5,4,6,1,4,5,1,3,5,6,4,3,1,4,6,2,3,2,1,4,1,2,6,4,2,6,5,1,2,4,6,5,1,2,1,4,5],\n",
    "              'admitted': [1,1,1,1,1,1,0,1,1,0,0,1,1,1,1,0,0,1,0,0,0,0,0,0,0,1,1,0,1,1,0,0,1,1,1,0,0,0,0,1]\n",
    "              }\n",
    "\n",
    "df = pd.DataFrame(candidates,columns= ['gmat', 'gpa','work_experience','admitted'])\n",
    "df.head(5)"
   ]
  },
  {
   "cell_type": "code",
   "execution_count": 11,
   "metadata": {},
   "outputs": [],
   "source": [
    "from sklearn.model_selection import train_test_split\n",
    "X = np.array(df[['gmat', 'gpa','work_experience']])\n",
    "y = np.array(df['admitted'])\n",
    "X_train,X_test,y_train,y_test = train_test_split(X,y,test_size=0.25,random_state=0)"
   ]
  },
  {
   "cell_type": "code",
   "execution_count": 12,
   "metadata": {},
   "outputs": [],
   "source": [
    "class LogisticRegression:\n",
    "    def __init__(self, lr=0.01, num_iter=100000, fit_intercept=True, verbose=False):\n",
    "        self.lr = lr\n",
    "        self.num_iter = num_iter\n",
    "        self.fit_intercept = fit_intercept\n",
    "        self.verbose = verbose\n",
    "    def __add_intercept(self, X):\n",
    "        intercept = np.ones((X.shape[0], 1))\n",
    "        return np.concatenate((intercept, X), axis=1)\n",
    "    \n",
    "    def __sigmoid(self, z):\n",
    "        return 1 / (1 + np.exp(-z))\n",
    "    def __loss(self, h, y):\n",
    "        return (-y * np.log(h) - (1 - y) * np.log(1 - h)).mean()\n",
    "    \n",
    "    def fit(self, X, y):\n",
    "        if self.fit_intercept:\n",
    "            X = self.__add_intercept(X)\n",
    "        \n",
    "        # weights initialization\n",
    "        self.theta = np.zeros(X.shape[1])\n",
    "        \n",
    "        for i in range(self.num_iter):\n",
    "            z = np.dot(X, self.theta)\n",
    "            h = self.__sigmoid(z)\n",
    "            gradient = np.dot(X.T, (h - y)) / y.size\n",
    "            self.theta -= self.lr * gradient\n",
    "            \n",
    "            if(self.verbose == True and i % 10000 == 0):\n",
    "                z = np.dot(X, self.theta)\n",
    "                h = self.__sigmoid(z)\n",
    "                print(f'loss: {self.__loss(h, y)} \\t')\n",
    "    \n",
    "    def predict_prob(self, X):\n",
    "        if self.fit_intercept:\n",
    "            X = self.__add_intercept(X)\n",
    "    \n",
    "        return self.__sigmoid(np.dot(X, self.theta))\n",
    "    \n",
    "    def predict(self, X, threshold):\n",
    "        return self.predict_prob(X) >= threshold"
   ]
  },
  {
   "cell_type": "code",
   "execution_count": 14,
   "metadata": {},
   "outputs": [
    {
     "data": {
      "text/plain": [
       "array([-0.39261103,  1.76397463, -2.84390235])"
      ]
     },
     "execution_count": 14,
     "metadata": {},
     "output_type": "execute_result"
    }
   ],
   "source": [
    "import sklearn\n",
    "from sklearn.datasets import load_iris\n",
    "iris = load_iris()\n",
    "X = iris.data[:, :2]\n",
    "y = (iris.target != 0) * 1\n",
    "model = LogisticRegression(lr=0.0001, num_iter=300000)\n",
    "model.fit(X, y)\n",
    "model.theta"
   ]
  },
  {
   "cell_type": "code",
   "execution_count": 15,
   "metadata": {},
   "outputs": [
    {
     "name": "stderr",
     "output_type": "stream",
     "text": [
      "/home/chung/miniconda3/envs/tflow/lib/python3.7/site-packages/sklearn/linear_model/logistic.py:432: FutureWarning: Default solver will be changed to 'lbfgs' in 0.22. Specify a solver to silence this warning.\n",
      "  FutureWarning)\n"
     ]
    },
    {
     "data": {
      "text/plain": [
       "array([[ 31.5951929 , -28.30153825]])"
      ]
     },
     "execution_count": 15,
     "metadata": {},
     "output_type": "execute_result"
    }
   ],
   "source": [
    "# You can also simiply use the scikit learn model\n",
    "from sklearn.linear_model import LogisticRegression\n",
    "model = LogisticRegression(C=1e20)\n",
    "model.fit(X, y)\n",
    "model.coef_"
   ]
  },
  {
   "cell_type": "markdown",
   "metadata": {},
   "source": [
    "### Exercise 2.2.3 Find the numerical solution of Linear Regression Model\n",
    "Need to modify the objective function above from logisitic regression"
   ]
  },
  {
   "cell_type": "markdown",
   "metadata": {},
   "source": [
    "### Exercise 2.2.4 For initialize different starting point of x, the result will be different for the gradient descent methods\n",
    "\n",
    "Consider the function $f(x)= (x+2)^2-16exp(-(x-2)^2)$.\n",
    "\n",
    "1. Make a function get_y(x) that computes the function value given x\n",
    "2. Draw a plot around $x\\in [-8,8]$\n",
    "3. Calculate the derivative of the function f(x), implement the function get_grad(x)\n",
    "4. Write the gradient descent function gradient_descent()\n",
    "5. Two scenarios: what are the results if x_0 = -8, and how about x_0 = 8?\n",
    "6. How about changing the learning rate (lr), iteration steps(max_iter), and precision(prec)?"
   ]
  },
  {
   "cell_type": "code",
   "execution_count": 16,
   "metadata": {},
   "outputs": [],
   "source": [
    "#1. Make a function that computes the function value given x\n",
    "def get_y(x):\n",
    "    return (x+2)**2-16*np.exp(-((x-2)**2))"
   ]
  },
  {
   "cell_type": "code",
   "execution_count": 17,
   "metadata": {},
   "outputs": [
    {
     "data": {
      "image/png": "[encoded data removed]",
      "text/plain": [
       "<Figure size 432x288 with 1 Axes>"
      ]
     },
     "metadata": {
      "needs_background": "light"
     },
     "output_type": "display_data"
    }
   ],
   "source": [
    "#2. Draw a plot around x in [-8,8]\n",
    "x = np.arange(-8, 8, 0.001)\n",
    "y = np.array([get_y(u) for u in x])\n",
    "plt.plot(x,y)\n",
    "plt.show()"
   ]
  },
  {
   "cell_type": "code",
   "execution_count": 18,
   "metadata": {},
   "outputs": [],
   "source": [
    "#3. Calculate the derivative of the function f(x), implement the function get_grad(x)\n",
    "def get_grad(x):\n",
    "    return (2*x+4)-16*(-2*x+4)*np.exp(-((x-2)**2))"
   ]
  },
  {
   "cell_type": "code",
   "execution_count": 19,
   "metadata": {},
   "outputs": [],
   "source": [
    "#4. Write the gradient descent function gradient_descent()\n",
    "def gradient_descent(start_x, func, grad, prec=0.0001, lr = 0.1, max_iter = 100):\n",
    "    prec = prec\n",
    "    lr = lr\n",
    "    max_iter = max_iter\n",
    "    x_new = start_x\n",
    "    res = []\n",
    "    for i in range(max_iter):\n",
    "        x_old = x_new\n",
    "        x_new = x_old - lr * grad(x_new)\n",
    "        f_x_new = func(x_new)\n",
    "        f_x_old = func(x_old)\n",
    "        res.append([x_new, f_x_new])\n",
    "        if (abs(f_x_new - f_x_old)<prec):\n",
    "            print(\"Change in function values too small, leaving\")\n",
    "            print('Converging point:', x_new)\n",
    "            print('Minimized value:', f_x_new)\n",
    "            return np.array(res)\n",
    "    print('Exceeded maximum number of iterations, leaving')\n",
    "    print('Converging point:', x_new)\n",
    "    print('Minimized value:', f_x_new)\n",
    "    return(np.array(res))"
   ]
  },
  {
   "cell_type": "code",
   "execution_count": 20,
   "metadata": {},
   "outputs": [
    {
     "name": "stdout",
     "output_type": "stream",
     "text": [
      "Change in function values too small, leaving\n",
      "Converging point: -2.011600506267682\n",
      "Minimized value: 0.00013293098384661487\n"
     ]
    },
    {
     "data": {
      "image/png": "[encoded data removed]",
      "text/plain": [
       "<Figure size 432x288 with 1 Axes>"
      ]
     },
     "metadata": {
      "needs_background": "light"
     },
     "output_type": "display_data"
    }
   ],
   "source": [
    "#5.1 What's the result if x_0 = -8?\n",
    "x_0 = -8\n",
    "res = gradient_descent(x_0, get_y, get_grad)\n",
    "plt.plot(x,y)\n",
    "plt.plot(res[:,0], res[:,1], 'g+',)\n",
    "plt.show()"
   ]
  },
  {
   "cell_type": "code",
   "execution_count": 21,
   "metadata": {},
   "outputs": [
    {
     "name": "stdout",
     "output_type": "stream",
     "text": [
      "Change in function values too small, leaving\n",
      "Converging point: 1.7530830082928162\n",
      "Minimized value: -0.9680214665375022\n"
     ]
    },
    {
     "data": {
      "image/png": "[encoded data removed]",
      "text/plain": [
       "<Figure size 432x288 with 1 Axes>"
      ]
     },
     "metadata": {
      "needs_background": "light"
     },
     "output_type": "display_data"
    }
   ],
   "source": [
    "#5.2 What's the result if x_0 = 8?\n",
    "x_0 = 8\n",
    "res = gradient_descent(x_0, get_y, get_grad)\n",
    "plt.plot(x,y)\n",
    "plt.plot(res[:,0], res[:,1], 'g+')\n",
    "plt.show()"
   ]
  },
  {
   "cell_type": "markdown",
   "metadata": {},
   "source": [
    "Now that the algorithm converged to the global minimum. However, note that getting to the global minimum, the sequence of points jumped from one side of the minimum to the other."
   ]
  },
  {
   "cell_type": "code",
   "execution_count": 22,
   "metadata": {},
   "outputs": [
    {
     "data": {
      "text/plain": [
       "array([[ 6.        , 63.9999982 ],\n",
       "       [ 4.39999856, 40.90956343],\n",
       "       [ 3.09579816, 21.15177811],\n",
       "       [ 1.02130145,  2.9887958 ],\n",
       "       [ 1.61877858, -0.7402349 ],\n",
       "       [ 1.94992301, -0.35803519],\n",
       "       [ 1.31978342,  0.94760383],\n",
       "       [ 2.02623978,  0.22161937],\n",
       "       [ 1.13708233,  2.2427023 ],\n",
       "       [ 1.82105621, -0.89531119],\n",
       "       [ 1.61141974, -0.71528469],\n",
       "       [ 1.95832504, -0.30389818],\n",
       "       [ 1.29978849,  1.08948428],\n",
       "       [ 2.01212209,  0.09947458],\n",
       "       [ 1.17091269,  2.00846292],\n",
       "       [ 1.87093466, -0.75154668],\n",
       "       [ 1.50293396, -0.22677184],\n",
       "       [ 2.04474566,  0.39197016],\n",
       "       [ 1.09289682,  2.53906224],\n",
       "       [ 1.74915092, -0.96808581],\n",
       "       [ 1.75308301, -0.96802147]])"
      ]
     },
     "execution_count": 22,
     "metadata": {},
     "output_type": "execute_result"
    }
   ],
   "source": [
    "res"
   ]
  },
  {
   "cell_type": "code",
   "execution_count": 23,
   "metadata": {},
   "outputs": [
    {
     "name": "stdout",
     "output_type": "stream",
     "text": [
      "Exceeded maximum number of iterations, leaving\n",
      "Converging point: 6.185668025073309\n",
      "Minimized value: 67.00516062283093\n"
     ]
    },
    {
     "data": {
      "image/png": "[encoded data removed]",
      "text/plain": [
       "<Figure size 432x288 with 1 Axes>"
      ]
     },
     "metadata": {
      "needs_background": "light"
     },
     "output_type": "display_data"
    }
   ],
   "source": [
    "#6. How about changing the learning rate (lr), iteration steps(max_iter), and precision(prec)?\n",
    "# Default value:  prec=0.0001, lr = 0.1, max_iter = 100\n",
    "# If lr smaller, lr = 0.001, max_iter unchanged\n",
    "x_0 = 8\n",
    "res = gradient_descent(x_0, get_y, get_grad, prec=0.0001, lr = 0.001, max_iter = 100)\n",
    "plt.plot(x,y)\n",
    "plt.plot(res[:,0], res[:,1], 'g+')\n",
    "plt.show()"
   ]
  },
  {
   "cell_type": "code",
   "execution_count": 24,
   "metadata": {},
   "outputs": [
    {
     "name": "stdout",
     "output_type": "stream",
     "text": [
      "Change in function values too small, leaving\n",
      "Converging point: 1.7612901488879322\n",
      "Minimized value: -0.9664676312988725\n"
     ]
    },
    {
     "data": {
      "image/png": "[encoded data removed]",
      "text/plain": [
       "<Figure size 432x288 with 1 Axes>"
      ]
     },
     "metadata": {
      "needs_background": "light"
     },
     "output_type": "display_data"
    }
   ],
   "source": [
    "# If lr smaller, lr = 0.001, max_iter increase\n",
    "x_0 = 8\n",
    "res = gradient_descent(x_0, get_y, get_grad, prec=0.0001, lr = 0.001, max_iter = 1000)\n",
    "plt.plot(x,y)\n",
    "plt.plot(res[:,0], res[:,1], 'g+')\n",
    "plt.show()"
   ]
  },
  {
   "cell_type": "code",
   "execution_count": 25,
   "metadata": {},
   "outputs": [
    {
     "name": "stdout",
     "output_type": "stream",
     "text": [
      "Exceeded maximum number of iterations, leaving\n",
      "Converging point: 1.906115691409945\n",
      "Minimized value: -0.6018516987516911\n"
     ]
    },
    {
     "data": {
      "image/png": "[encoded data removed]",
      "text/plain": [
       "<Figure size 432x288 with 1 Axes>"
      ]
     },
     "metadata": {
      "needs_background": "light"
     },
     "output_type": "display_data"
    }
   ],
   "source": [
    "# If prec smaller, seems like will never reach to the convergence if max_iter unchanged\n",
    "x_0 = 8\n",
    "res = gradient_descent(x_0, get_y, get_grad, prec=0.00001, lr = 0.1, max_iter = 100)\n",
    "plt.plot(x,y)\n",
    "plt.plot(res[:,0], res[:,1], 'g+')\n",
    "plt.show()"
   ]
  },
  {
   "cell_type": "code",
   "execution_count": null,
   "metadata": {},
   "outputs": [],
   "source": [
    "plt(\"\")"
   ]
  },
  {
   "cell_type": "code",
   "execution_count": null,
   "metadata": {},
   "outputs": [],
   "source": [
    "x = np.arange(500)\n",
    "x0 = np.ones(500)\n",
    "delta = np.random.uniform(-10,10, size=(500,))\n",
    "\n",
    "y = 3 + .4 * x+ delta\n",
    "learning_rate=0.0001\n",
    "#經過3000次的調整參數\n",
    "n_iterations=100\n",
    "\n",
    "#隨機定義參數值\n",
    "theta = np.random.randn(2,1)\n",
    "#如同最小平方法,必須加入截距項\n",
    "x=np.concatenate((np.ones((x.shape[0],1)),x[:,np.newaxis]),axis=1)\n",
    "y=y[:,np.newaxis]\n",
    "#來畫點不一樣風格的圖吧\n",
    "plt.style.use('fivethirtyeight')\n",
    "print(x.shape, y.shape)\n",
    "#開始梯度下降\n",
    "for iteration in range(n_iterations):\n",
    "    #求出預測的yhat值\n",
    "    scores = np.dot(x,theta)\n",
    "    #誤差值\n",
    "    output_error = y-scores\n",
    "    #x的shape(50,2) output_error的shapeｊ為(50,1) gradients為(2,1)\n",
    "    gradients = 2*np.dot(x.T,output_error)\n",
    "    #每次對theta\n",
    "    theta += learning_rate*gradients"
   ]
  },
  {
   "cell_type": "code",
   "execution_count": null,
   "metadata": {},
   "outputs": [],
   "source": []
  },
  {
   "cell_type": "code",
   "execution_count": 65,
   "metadata": {},
   "outputs": [],
   "source": [
    "def logistic(x):\n",
    "    return 1.0 / (1.0 + np.exp(-x))"
   ]
  },
  {
   "cell_type": "code",
   "execution_count": 66,
   "metadata": {},
   "outputs": [],
   "source": [
    "def cross_entroy_loss(X, Y, W):\n",
    "    '''\n",
    "    Using Mean Absolute Error\n",
    "\n",
    "    Features X:(100,3)\n",
    "    Labels Y: (100,1)\n",
    "    Weights W:(3,1)\n",
    "    predictions XW: (100,1)\n",
    "    Returns 1D matrix of predictions\n",
    "    Cost = (labels*log(predictions) + (1-labels)*log(1-predictions) ) / len(labels)\n",
    "    '''\n",
    "    observations = len(Y)\n",
    "\n",
    "    predictions = logistic(np.dot(X,W))\n",
    "\n",
    "    #Take the error when label=1\n",
    "    class1_cost = -Y*np.log(predictions)\n",
    "\n",
    "    #Take the error when label=0\n",
    "    class2_cost = (1-Y)*np.log(1-predictions)\n",
    "\n",
    "    #Take the sum of both costs\n",
    "    cost = class1_cost + class2_cost\n",
    "\n",
    "    #Take the average cost\n",
    "    cost = cost.sum() / observations\n",
    "\n",
    "    return cost"
   ]
  },
  {
   "cell_type": "code",
   "execution_count": 67,
   "metadata": {},
   "outputs": [],
   "source": [
    "def update_weights(X, Y, W, lr):\n",
    "    '''\n",
    "    Vectorized Gradient Descent\n",
    "\n",
    "    Features:(200, 3)\n",
    "    Labels: (200, 1)\n",
    "    Weights:(3, 1)\n",
    "    '''\n",
    "    N = len(X)\n",
    "\n",
    "    #1 - Get Predictions\n",
    "    predictions = logistic(np.dot(X,W))\n",
    "\n",
    "    #2 Transpose features from (200, 3) to (3, 200)\n",
    "    # So we can multiply w the (200,1)  cost matrix.\n",
    "    # Returns a (3,1) matrix holding 3 partial derivatives --\n",
    "    # one for each feature -- representing the aggregate\n",
    "    # slope of the cost function across all observations\n",
    "    gradient = np.dot(X.T,  predictions - Y)\n",
    "\n",
    "    #3 Take the average cost derivative for each feature\n",
    "    gradient /= N\n",
    "\n",
    "    #4 - Multiply the gradient by our learning rate\n",
    "    gradient *= lr\n",
    "\n",
    "    #5 - Subtract from our weights to minimize cost\n",
    "    W = W - gradient\n",
    "\n",
    "    return W"
   ]
  },
  {
   "cell_type": "code",
   "execution_count": 68,
   "metadata": {},
   "outputs": [],
   "source": [
    "def logistic_regression(X, Y, W, lr, iters):\n",
    "    cost_history = []\n",
    "\n",
    "    for i in range(iters):\n",
    "        weights = update_weights(X, Y, W, lr)\n",
    "\n",
    "        #Calculate error for auditing purposes\n",
    "        cost = cross_entroy_loss(X, Y, W)\n",
    "        cost_history.append(cost)\n",
    "\n",
    "        # Log Progress\n",
    "        if i % 1000 == 0:\n",
    "            print(\"iter: \"+str(i) + \" cost: \"+str(cost))\n",
    "\n",
    "    return weights, cost_history"
   ]
  },
  {
   "cell_type": "code",
   "execution_count": 59,
   "metadata": {},
   "outputs": [
    {
     "name": "stderr",
     "output_type": "stream",
     "text": [
      "/home/chung/miniconda3/envs/tflow/lib/python3.7/site-packages/sklearn/linear_model/logistic.py:432: FutureWarning: Default solver will be changed to 'lbfgs' in 0.22. Specify a solver to silence this warning.\n",
      "  FutureWarning)\n"
     ]
    },
    {
     "data": {
      "text/plain": [
       "array([[-0.00925059,  1.18643654,  1.0850531 ]])"
      ]
     },
     "execution_count": 59,
     "metadata": {},
     "output_type": "execute_result"
    }
   ],
   "source": [
    "from sklearn.linear_model import LogisticRegression\n",
    "candidates = {'gmat': [780,750,690,710,680,730,690,720,740,690,610,690,710,680,770,610,580,650,540,590,620,600,550,550,570,670,660,580,650,660,640,620,660,660,680,650,670,580,590,690],\n",
    "              'gpa': [4,3.9,3.3,3.7,3.9,3.7,2.3,3.3,3.3,1.7,2.7,3.7,3.7,3.3,3.3,3,2.7,3.7,2.7,2.3,3.3,2,2.3,2.7,3,3.3,3.7,2.3,3.7,3.3,3,2.7,4,3.3,3.3,2.3,2.7,3.3,1.7,3.7],\n",
    "              'work_experience': [3,4,3,5,4,6,1,4,5,1,3,5,6,4,3,1,4,6,2,3,2,1,4,1,2,6,4,2,6,5,1,2,4,6,5,1,2,1,4,5],\n",
    "              'admitted': [1,1,1,1,1,1,0,1,1,0,0,1,1,1,1,0,0,1,0,0,0,0,0,0,0,1,1,0,1,1,0,0,1,1,1,0,0,0,0,1]\n",
    "              }\n",
    "\n",
    "df = pd.DataFrame(candidates,columns= ['gmat', 'gpa','work_experience','admitted'])\n",
    "\n",
    "\n",
    "X = df[['gmat', 'gpa','work_experience']]\n",
    "y = df['admitted']\n",
    "\n",
    "X_train,X_test,y_train,y_test = train_test_split(X,y,test_size=0.25,random_state=0)  #in this case, you may choose to set the test_size=0. You should get the same prediction here\n",
    "\n",
    "logistic_regression= LogisticRegression()\n",
    "logistic_regression.fit(X_train,y_train)\n",
    "logistic_regression.coef_"
   ]
  },
  {
   "cell_type": "code",
   "execution_count": null,
   "metadata": {},
   "outputs": [],
   "source": [
    "weights=np.zeros((X.shape[1],1))\n",
    "logistic_regression(X_train,y_train,weights, 0.0001, 100 )"
   ]
  },
  {
   "cell_type": "code",
   "execution_count": 70,
   "metadata": {},
   "outputs": [],
   "source": [
    "def logistic_regression(X,Y,num_steps,learning_rate,add_intercept=False):\n",
    "    make_plot=[]\n",
    "    #代表如果是否需要截距項 True的話就會建立之\n",
    "    if add_intercept:\n",
    "        intercept=np.ones((X.shape[0],1))\n",
    "        X=np.hstack((intercept,X))\n",
    "    \n",
    "    weights=np.zeros(X.shape[1])\n",
    "    #開始進行迴圈跑最出最佳參數\n",
    "    for step in range(num_steps):\n",
    "        scores=np.dot(X,W)\n",
    "        #function套入sigmoid function得1機率值\n",
    "        predictions=logistic(scores)\n",
    "        #觀看誤差\n",
    "        output_error_singal=Y-predictions\n",
    "        #gradient\n",
    "        gradient=np.dot(X.T,output_error_singal)\n",
    "        weights+=learning_rate*gradient\n",
    "        \n",
    "        #print出藉由參數不斷的調整 Loss function不斷在向最小化邁進\n",
    "        if step%10000==0:\n",
    "            make_plot.append(cross_entroy_loss(X,Y,W))\n",
    "    return weights,make_plot"
   ]
  },
  {
   "cell_type": "code",
   "execution_count": 73,
   "metadata": {},
   "outputs": [
    {
     "name": "stdout",
     "output_type": "stream",
     "text": [
      "(10000, 2)\n"
     ]
    }
   ],
   "source": [
    "import numpy as np\n",
    "%matplotlib inline\n",
    "import matplotlib.pyplot as plt\n",
    "\n",
    "np.random.seed(12)\n",
    "number_observation=5000\n",
    "#建立多元常態分佈矩陣, 而第二個list則為協方差矩陣,描述x1,x2變數間的相關關係\n",
    "x1=np.random.multivariate_normal([0,0],[[1,0.75],[0.75,1]],number_observation)\n",
    "x2=np.random.multivariate_normal([1,4],[[1,0.75],[0.75,1]],number_observation)\n",
    "#將其兩個從原本的shape都為(5000,2) 轉變成(10000,2) 疊加的概念\n",
    "simulated_separableish_features=np.vstack((x1,x2)).astype(np.float32)\n",
    "\n",
    "#為了設置color的label\n",
    "simulated_labels=np.hstack((np.zeros(number_observation),np.ones(number_observation)))\n",
    "print(simulated_separableish_features.shape)\n",
    "\n",
    "def logistic_regression(features,target,num_steps,learning_rate,add_intercept=False):\n",
    "    make_plot=[]\n",
    "    #代表如果是否需要截距項 True的話就會建立之\n",
    "    if add_intercept:\n",
    "        intercept=np.ones((features.shape[0],1))\n",
    "        features=np.hstack((intercept,features))\n",
    "    \n",
    "    weights=np.zeros(features.shape[1])\n",
    "    #開始進行迴圈跑最出最佳參數\n",
    "    for step in range(num_steps):\n",
    "        scores=np.dot(features,weights)\n",
    "        #function套入sigmoid function得1機率值\n",
    "        predictions=logistic(scores)\n",
    "        #觀看誤差\n",
    "        output_error_singal=target-predictions\n",
    "        #gradient\n",
    "        gradient=np.dot(features.T,output_error_singal)\n",
    "        weights+=learning_rate*gradient\n",
    "        \n",
    "        #print出藉由參數不斷的調整 Loss function不斷在向最小化邁進\n",
    "        if step%10000==0:\n",
    "            make_plot.append(cross_entroy_loss(features,target,weights))\n",
    "    return weights,make_plot\n",
    "\n",
    "weights=logistic_regression(simulated_separableish_features,simulated_labels,num_steps=100,learning_rate=1e-5,add_intercept=True)"
   ]
  },
  {
   "cell_type": "code",
   "execution_count": 74,
   "metadata": {},
   "outputs": [
    {
     "data": {
      "text/plain": [
       "(array([-1.27121515, -0.23666288,  1.09528394]), [-0.09562371370535308])"
      ]
     },
     "execution_count": 74,
     "metadata": {},
     "output_type": "execute_result"
    }
   ],
   "source": [
    "weights"
   ]
  },
  {
   "cell_type": "code",
   "execution_count": 80,
   "metadata": {},
   "outputs": [],
   "source": [
    "# Numerical Solutions with Gradient Descent\n",
    "class LogisticRegression:\n",
    "    def fit(self, X, y, n_iter=4000, lr=0.01):\n",
    "        self.w = np.random.rand(X.shape[1],1)\n",
    "        for _ in range(n_iter):\n",
    "            self.w -= lr * np.dot(X.T,self.predict(X) - y)\n",
    "    def predict(self, X):\n",
    "        return logistic(X.dot(self.w))"
   ]
  },
  {
   "cell_type": "code",
   "execution_count": 82,
   "metadata": {},
   "outputs": [
    {
     "data": {
      "text/plain": [
       "array([[ 93.01936466],\n",
       "       [200.36146761],\n",
       "       [658.76634932]])"
      ]
     },
     "execution_count": 82,
     "metadata": {},
     "output_type": "execute_result"
    }
   ],
   "source": [
    "a = LogisticRegression()\n",
    "a.fit(X_train,y_train)\n",
    "a.w"
   ]
  },
  {
   "cell_type": "markdown",
   "metadata": {},
   "source": [
    "### Adjusting Learning rate"
   ]
  },
  {
   "cell_type": "code",
   "execution_count": null,
   "metadata": {},
   "outputs": [],
   "source": []
  },
  {
   "cell_type": "code",
   "execution_count": null,
   "metadata": {},
   "outputs": [],
   "source": [
    "LogisticRegression.fit("
   ]
  },
  {
   "cell_type": "code",
   "execution_count": 134,
   "metadata": {},
   "outputs": [
    {
     "name": "stdout",
     "output_type": "stream",
     "text": [
      "[[-8.02274764e+116]\n",
      " [-2.67156690e+119]]\n"
     ]
    }
   ],
   "source": [
    "# Building the model\n",
    "x = np.arange(500)\n",
    "x0 = np.ones(500)\n",
    "delta = np.random.uniform(-10,10, size=(500,))\n",
    "\n",
    "y = 3 + .4 * x+ delta\n",
    "W = np.array([3, 0.4])\n",
    "X = np.array([x0,x]).T # (500,2)\n",
    "Y = y.reshape(len(y),1)\n",
    "#print(X.shape, Y.shape)\n",
    "#X = X.T\n",
    "m = np.random.randn(2,1)\n",
    "#m = np.array([[1],[1]]) # (2,1)\n",
    "c = 0\n",
    "\n",
    "L = 0.0001  # The learning Rate\n",
    "epochs = 100  # The number of iterations to perform gradient descent\n",
    "\n",
    "n = float(X.shape[0]) # Number of elements in X\n",
    "# Performing Gradient Descent \n",
    "for i in range(epochs): \n",
    "    Y_pred = np.dot(X,m)  # The current predicted value of Y\n",
    "    D_m = (-2/n)*np.dot(X.T, (Y - Y_pred))\n",
    "    #print(Y_pred.shape)\n",
    "    #D_m = (-2/n) * sum(X * (y - Y_pred))  # Derivative wrt m\n",
    "    #D_c = (-2/n) * sum(Y - Y_pred)  # Derivative wrt c\n",
    "    m = m - L * D_m  # Update m\n",
    "    #print(m.shape)\n",
    "    #c = c - L * D_c  # Update c\n",
    "    \n",
    "print (m)"
   ]
  },
  {
   "cell_type": "code",
   "execution_count": 105,
   "metadata": {},
   "outputs": [],
   "source": [
    "learning_rate=0.0001\n",
    "#經過3000次的調整參數\n",
    "n_iterations=3000\n",
    "rng=np.random.RandomState(1)\n",
    "#numpy.random.randn(d0, d1, …, dn)是從常態分配中返回一個或多個值 \n",
    "x=10*rng.rand(50)\n",
    "#numpy.random.rand(d0, d1, …, dn)的數值會產生在(0,1)之間\n",
    "y=2*x-5+rng.randn(50)\n",
    "#隨機定義參數值\n",
    "theta = np.random.randn(2,1)\n",
    "#如同最小平方法,必須加入截距項\n",
    "x=np.concatenate((np.ones((x.shape[0],1)),x[:,np.newaxis]),axis=1)\n",
    "y=y[:,np.newaxis]\n",
    "#來畫點不一樣風格的圖吧\n",
    "#plt.style.use('fivethirtyeight')\n",
    "#開始梯度下降\n",
    "for iteration in range(n_iterations):\n",
    "    #求出預測的yhat值\n",
    "    scores = np.dot(x,theta)\n",
    "    #誤差值\n",
    "    output_error = y-scores\n",
    "    #x的shape(50,2) output_error的shapeｊ為(50,1) gradients為(2,1)\n",
    "    gradients = 2*np.dot(x.T,output_error)\n",
    "    #每次對theta\n",
    "    theta += learning_rate*gradients"
   ]
  },
  {
   "cell_type": "code",
   "execution_count": 61,
   "metadata": {},
   "outputs": [
    {
     "data": {
      "text/plain": [
       "array([[3.97627008e-04, 7.70378733e-04, 5.85526752e-04, ...,\n",
       "        1.99834271e-02, 1.97168269e-02, 2.02717328e-02],\n",
       "       [7.95254016e-04, 1.54075747e-03, 1.17105350e-03, ...,\n",
       "        3.99668541e-02, 3.94336539e-02, 4.05434655e-02],\n",
       "       [1.19288102e-03, 2.31113620e-03, 1.75658026e-03, ...,\n",
       "        5.99502812e-02, 5.91504808e-02, 6.08151983e-02],\n",
       "       ...,\n",
       "       [1.98018250e-01, 3.83648609e-01, 2.91592323e-01, ...,\n",
       "        9.95174668e+00, 9.81897981e+00, 1.00953229e+01],\n",
       "       [1.98415877e-01, 3.84418988e-01, 2.92177849e-01, ...,\n",
       "        9.97173011e+00, 9.83869664e+00, 1.01155947e+01],\n",
       "       [1.98813504e-01, 3.85189366e-01, 2.92763376e-01, ...,\n",
       "        9.99171354e+00, 9.85841347e+00, 1.01358664e+01]])"
      ]
     },
     "execution_count": 61,
     "metadata": {},
     "output_type": "execute_result"
    }
   ],
   "source": [
    "D_m = (-2/n)*np.dot(X.T,(y - m*X))\n",
    "m - L * D_m"
   ]
  },
  {
   "cell_type": "code",
   "execution_count": null,
   "metadata": {},
   "outputs": [],
   "source": [
    "# Numerical Solutions\n",
    "class LinearRegression:\n",
    "    def fit(self, X, y, n_iter=1000, lr=0.0001):\n",
    "        self.w = np.random.rand(X.shape[1])\n",
    "        for _ in range(n_iter):\n",
    "            self.w -= lr * (self.predict(X) - y).dot(X)\n",
    "    def predict(self, X):\n",
    "        return sigmoid(X.dot(self.w))"
   ]
  },
  {
   "cell_type": "code",
   "execution_count": 152,
   "metadata": {},
   "outputs": [],
   "source": [
    "class LinearRegression:\n",
    "    def fit(self, X, y):\n",
    "        self.w = np.linalg.lstsq(X, y, rcond=None)[0]\n",
    "    def predict(self, X):\n",
    "        return X.dot(self.w)"
   ]
  },
  {
   "cell_type": "code",
   "execution_count": 162,
   "metadata": {},
   "outputs": [],
   "source": [
    "np.random.seed(0)\n",
    "x = np.arange(500)\n",
    "x0 = np.ones(500)\n",
    "delta = np.random.uniform(-10,10, size=(500,))\n",
    "\n",
    "y = 3 + .4 * x+ delta\n",
    "W = np.array([3, 0.4])\n",
    "X = np.array([x0,x]).T # (500,2)\n",
    "Y = y.reshape(len(y),1)\n",
    "model = LinearRegression()"
   ]
  },
  {
   "cell_type": "code",
   "execution_count": 163,
   "metadata": {},
   "outputs": [],
   "source": [
    "model.fit(X, Y)"
   ]
  },
  {
   "cell_type": "code",
   "execution_count": 164,
   "metadata": {},
   "outputs": [
    {
     "data": {
      "text/plain": [
       "array([[2.94565903],\n",
       "       [0.39994507]])"
      ]
     },
     "execution_count": 164,
     "metadata": {},
     "output_type": "execute_result"
    }
   ],
   "source": [
    "model.w"
   ]
  },
  {
   "cell_type": "code",
   "execution_count": 27,
   "metadata": {},
   "outputs": [],
   "source": [
    "x = np.array([[1,2],[3,4]]) \n",
    "y = np.linalg.inv(x)\n",
    "#print(np.linalg.inv(np.dot(X.T,X)))"
   ]
  },
  {
   "cell_type": "code",
   "execution_count": 25,
   "metadata": {},
   "outputs": [
    {
     "data": {
      "text/plain": [
       "array([[1.000e+00, 1.000e+00, 1.000e+00, ..., 1.000e+00, 1.000e+00,\n",
       "        1.000e+00],\n",
       "       [1.000e+00, 2.000e+00, 3.000e+00, ..., 9.800e+01, 9.900e+01,\n",
       "        1.000e+02],\n",
       "       [1.000e+00, 3.000e+00, 5.000e+00, ..., 1.950e+02, 1.970e+02,\n",
       "        1.990e+02],\n",
       "       ...,\n",
       "       [1.000e+00, 9.800e+01, 1.950e+02, ..., 9.410e+03, 9.507e+03,\n",
       "        9.604e+03],\n",
       "       [1.000e+00, 9.900e+01, 1.970e+02, ..., 9.507e+03, 9.605e+03,\n",
       "        9.703e+03],\n",
       "       [1.000e+00, 1.000e+02, 1.990e+02, ..., 9.604e+03, 9.703e+03,\n",
       "        9.802e+03]])"
      ]
     },
     "execution_count": 25,
     "metadata": {},
     "output_type": "execute_result"
    }
   ],
   "source": [
    "np.dot(X.T,X)"
   ]
  }
 ],
 "metadata": {
  "kernelspec": {
   "display_name": "Python 3",
   "language": "python",
   "name": "python3"
  },
  "language_info": {
   "codemirror_mode": {
    "name": "ipython",
    "version": 3
   },
   "file_extension": ".py",
   "mimetype": "text/x-python",
   "name": "python",
   "nbconvert_exporter": "python",
   "pygments_lexer": "ipython3",
   "version": "3.7.4"
  }
 },
 "nbformat": 4,
 "nbformat_minor": 4
}
